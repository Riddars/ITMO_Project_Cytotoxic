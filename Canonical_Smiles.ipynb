{
  "nbformat": 4,
  "nbformat_minor": 0,
  "metadata": {
    "colab": {
      "provenance": [],
      "authorship_tag": "ABX9TyOLp7evV8Ti9/HnskvmLF8k",
      "include_colab_link": true
    },
    "kernelspec": {
      "name": "python3",
      "display_name": "Python 3"
    },
    "language_info": {
      "name": "python"
    }
  },
  "cells": [
    {
      "cell_type": "markdown",
      "metadata": {
        "id": "view-in-github",
        "colab_type": "text"
      },
      "source": [
        "<a href=\"https://colab.research.google.com/github/Riddars/ITMO_Project_Cytotoxic/blob/%D0%94%D0%BE%D0%B1%D0%B0%D0%B2%D0%BB%D0%B5%D0%BD%D0%B8%D0%B5_%D0%B4%D0%B5%D1%81%D0%BA%D1%80%D0%B8%D0%BF%D1%82%D0%BE%D1%80%D0%BE%D0%B2/Canonical_Smiles.ipynb\" target=\"_parent\"><img src=\"https://colab.research.google.com/assets/colab-badge.svg\" alt=\"Open In Colab\"/></a>"
      ]
    },
    {
      "cell_type": "code",
      "source": [
        "!pip install pubchempy\n",
        "!pip install requests\n",
        "import pandas as pd\n",
        "from pubchempy import get_compounds\n",
        "import numpy as np\n"
      ],
      "metadata": {
        "id": "lJwmoSfWdcWG"
      },
      "execution_count": null,
      "outputs": []
    },
    {
      "cell_type": "code",
      "source": [
        "DataFrame_CID = pd.read_csv('https://raw.githubusercontent.com/Riddars/ITMO_Project_Cytotoxic/%D0%94%D0%BE%D0%B1%D0%B0%D0%B2%D0%BB%D0%B5%D0%BD%D0%B8%D0%B5_%D0%B4%D0%B5%D1%81%D0%BA%D1%80%D0%B8%D0%BF%D1%82%D0%BE%D1%80%D0%BE%D0%B2/CytotoxicCID.csv', encoding='ISO-8859-1')\n"
      ],
      "metadata": {
        "id": "EVzxtYg9gXq-"
      },
      "execution_count": 10,
      "outputs": []
    },
    {
      "cell_type": "code",
      "source": [
        "canonical_smiles = [] # Список в который будут внесены уникальные значения Canonical_Smiles\n",
        "combine = pd.DataFrame(DataFrame_CID)\n",
        "unique_cids = combine['CID'].unique().tolist()\n",
        "for i in unique_cids:\n",
        "    try:\n",
        "        compound = get_compounds(i, 'cid')[0]\n",
        "        canonical_smiles.append(compound.canonical_smiles)\n",
        "    except:\n",
        "        canonical_smiles.append(None)"
      ],
      "metadata": {
        "id": "1_wp_PuogZiS"
      },
      "execution_count": 11,
      "outputs": []
    },
    {
      "cell_type": "code",
      "source": [
        "unmaterial = combine['material'].unique().tolist()\n",
        "\n",
        "# Создаем словарь, где ключом будет материал, а значением - canonical SMILES\n",
        "material_to_smiles = dict(zip(unmaterial, canonical_smiles))\n",
        "\n",
        "\n",
        "dataset_canonical_smiles = []\n"
      ],
      "metadata": {
        "id": "KAecX8Sxgdee"
      },
      "execution_count": 12,
      "outputs": []
    },
    {
      "cell_type": "code",
      "source": [
        "#проходим по элементам столбца material и по совпадениям добавляем canonical_smiles\n",
        "for material in DataFrame_CID['material']:\n",
        "    canonical_smiles = material_to_smiles.get(material)\n",
        "    dataset_canonical_smiles.append(canonical_smiles)\n",
        "\n",
        "DataFrame_CID['Canonical Smiles'] = dataset_canonical_smiles"
      ],
      "metadata": {
        "id": "EmlAPFrrhB6_"
      },
      "execution_count": 13,
      "outputs": []
    }
  ]
}