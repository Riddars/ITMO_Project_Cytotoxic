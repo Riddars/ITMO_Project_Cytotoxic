#'https://colab.research.google.com/drive/1aGxF0XODYu4sI3KITpO92DLLlT6_n5rJ?usp=sharing'
{
  "nbformat": 4,
  "nbformat_minor": 0,
  "metadata": {
    "colab": {
      "provenance": []
    },
    "kernelspec": {
      "name": "python3",
      "display_name": "Python 3"
    },
    "language_info": {
      "name": "python"
    }
  },
  "cells": [
    {
      "cell_type": "code",
      "source": [
        "!pip install pubchempy\n",
        "!pip install requests\n",
        "import pandas as pd\n",
        "from pubchempy import get_compounds\n",
        "import numpy as np\n"
      ],
      "metadata": {
        "id": "lJwmoSfWdcWG",
        "colab": {
          "base_uri": "https://localhost:8080/"
        },
        "outputId": "fcfed74b-103f-4fcc-c108-4e1048e59711"
      },
      "execution_count": 16,
      "outputs": [
        {
          "output_type": "stream",
          "name": "stdout",
          "text": [
            "Requirement already satisfied: pubchempy in /usr/local/lib/python3.10/dist-packages (1.0.4)\n",
            "Requirement already satisfied: requests in /usr/local/lib/python3.10/dist-packages (2.31.0)\n",
            "Requirement already satisfied: charset-normalizer<4,>=2 in /usr/local/lib/python3.10/dist-packages (from requests) (3.3.0)\n",
            "Requirement already satisfied: idna<4,>=2.5 in /usr/local/lib/python3.10/dist-packages (from requests) (3.4)\n",
            "Requirement already satisfied: urllib3<3,>=1.21.1 in /usr/local/lib/python3.10/dist-packages (from requests) (2.0.6)\n",
            "Requirement already satisfied: certifi>=2017.4.17 in /usr/local/lib/python3.10/dist-packages (from requests) (2023.7.22)\n"
          ]
        }
      ]
    },
    {
      "cell_type": "code",
      "source": [
        "DataFrame_CID = pd.read_csv('https://raw.githubusercontent.com/Riddars/ITMO_Project_Cytotoxic/%D0%94%D0%BE%D0%B1%D0%B0%D0%B2%D0%BB%D0%B5%D0%BD%D0%B8%D0%B5_%D0%B4%D0%B5%D1%81%D0%BA%D1%80%D0%B8%D0%BF%D1%82%D0%BE%D1%80%D0%BE%D0%B2/Data/2.CytotoxicityCID_(add%20CID).csv', encoding='ISO-8859-1')\n"
      ],
      "metadata": {
        "id": "EVzxtYg9gXq-"
      },
      "execution_count": 18,
      "outputs": []
    },
    {
      "cell_type": "code",
      "source": [
        "canonical_smiles = [] # Список в который будут внесены уникальные значения Canonical_Smiles\n",
        "combine = pd.DataFrame(DataFrame_CID)\n",
        "unique_cids = combine['CID'].unique().tolist()\n",
        "for i in unique_cids:\n",
        "    try:\n",
        "        compound = get_compounds(i, 'cid')[0]\n",
        "        canonical_smiles.append(compound.canonical_smiles)\n",
        "    except:\n",
        "        canonical_smiles.append(None)"
      ],
      "metadata": {
        "id": "1_wp_PuogZiS"
      },
      "execution_count": 19,
      "outputs": []
    },
    {
      "cell_type": "code",
      "source": [
        "unmaterial = combine['material'].unique().tolist()\n",
        "\n",
        "# Создаем словарь, где ключом будет материал, а значением - canonical SMILES\n",
        "material_to_smiles = dict(zip(unmaterial, canonical_smiles))\n",
        "\n",
        "\n",
        "dataset_canonical_smiles = []\n"
      ],
      "metadata": {
        "id": "KAecX8Sxgdee"
      },
      "execution_count": 20,
      "outputs": []
    },
    {
      "cell_type": "code",
      "source": [
        "#проходим по элементам столбца material и по совпадениям добавляем canonical_smiles\n",
        "for material in DataFrame_CID['material']:\n",
        "    canonical_smiles = material_to_smiles.get(material)\n",
        "    dataset_canonical_smiles.append(canonical_smiles)\n",
        "\n",
        "DataFrame_CID['Canonical Smiles'] = dataset_canonical_smiles"
      ],
      "metadata": {
        "id": "EmlAPFrrhB6_"
      },
      "execution_count": 21,
      "outputs": []
    }
  ]
}
